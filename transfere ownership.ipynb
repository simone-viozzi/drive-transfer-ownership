{
  "nbformat": 4,
  "nbformat_minor": 0,
  "metadata": {
    "colab": {
      "name": "drive hack change owner",
      "provenance": [],
      "collapsed_sections": [],
      "authorship_tag": "ABX9TyP0gQkjxKWigoe8hnjFAuaL",
      "include_colab_link": true
    },
    "kernelspec": {
      "name": "python3",
      "display_name": "Python 3"
    }
  },
  "cells": [
    {
      "cell_type": "markdown",
      "metadata": {
        "id": "view-in-github",
        "colab_type": "text"
      },
      "source": [
        "<a href=\"https://colab.research.google.com/github/simone-viozzi/drive-transfere-ownership/blob/master/transfere%20ownership.ipynb\" target=\"_parent\"><img src=\"https://colab.research.google.com/assets/colab-badge.svg\" alt=\"Open In Colab\"/></a>"
      ]
    },
    {
      "cell_type": "markdown",
      "metadata": {
        "id": "bIviNnN_wx08",
        "colab_type": "text"
      },
      "source": [
        "# intro\n",
        "Currently google drive don't have a function/api to change owner to files and transfere the quota from a user to another.\n",
        "So i creaded this google colab that use [the drive package](https://github.com/odeke-em/drive/) to transfere the ownership of folder and build-in file types (like google docs and spreadsheet) and dowload from an account and upload from another for all the other files (the one that actually take space in drive).\n",
        "\n",
        "I did this in colab because it's bandwith is pretty high and does't consume local resources.\n",
        "\n",
        "So the roadmap is:\n",
        "\n",
        "\n",
        "1.   install the packages \n",
        "2.   initialize the first drive (the one from we will remove the files)\n",
        "3.   download the folder that we intend to transfere\n",
        "4.   to speed up the process i writed some python code to determine which file types are build-in (so we can transfere ownership) and which file are external (so we must dowload and reupload them)\n",
        "5.    now we can transfere the ownership of folder and build-in types (tested with google docs and spreadsheet, it SHOULD work even if you open a txt in drive and it become a build-in type)\n",
        "6.   we copy the desidered folder to another folder to keep a copy\n",
        "7.   and than we can trash all the files that are not build-in (pdf, zip, etc) this step actually trash an entire folder recursively so we need to be very carefully. i DIDN'T test to recover the files from the trash and see what happen, so maybe the tree of folder will be lost. so very carefull!\n",
        "8.   we finished for the first account so we can init the second account\n",
        "9.   we move to the folder that we transfered (if the second account had the folder share before we need to navigate to that folder)\n",
        "10.  and dowload it to create the tree of folder and all the build-in files\n",
        "11.  last step we copy the folder and upload it!\n",
        "\n",
        "If in this process the machine terminate in mid operation we will have a total mess to use it carefully!\n",
        "\n",
        "This is a total alpha and need to be perfected!\n"
      ]
    },
    {
      "cell_type": "markdown",
      "metadata": {
        "id": "_0oK_pYqrAWJ",
        "colab_type": "text"
      },
      "source": [
        "# first step\n",
        "we install some useful packages, go and drive"
      ]
    },
    {
      "cell_type": "code",
      "metadata": {
        "id": "KqwpJJlXq6Az",
        "colab_type": "code",
        "colab": {}
      },
      "source": [
        "!sudo apt-get install tree\n",
        "!sudo apt-get install file\n",
        "!wget https://dl.google.com/go/go1.14.2.linux-amd64.tar.gz\n",
        "!tar -C /usr/local -xzf go1.14.2.linux-amd64.tar.gz\n",
        "import os\n",
        "os.environ['PATH'] += \":/usr/local/go/bin\"\n",
        "!go get -u github.com/odeke-em/drive/cmd/drive\n",
        "os.environ['PATH'] += \":/root/go/bin\""
      ],
      "execution_count": 0,
      "outputs": []
    },
    {
      "cell_type": "markdown",
      "metadata": {
        "id": "5Jm6_bvpa2tG",
        "colab_type": "text"
      },
      "source": [
        "# second step\n",
        "we initialize the first account and pull some directories to build the tree of folders and navigate locally to the desidered folder"
      ]
    },
    {
      "cell_type": "code",
      "metadata": {
        "id": "drd5p0bXaoJ3",
        "colab_type": "code",
        "colab": {}
      },
      "source": [
        "!mkdir first_account\n",
        "%cd first_account\n",
        "!drive init\n",
        "!drive index -no-prompt -quiet\n",
        "!drive pull -directories -depth 4 -quiet -no-prompt -fix-clashes"
      ],
      "execution_count": 0,
      "outputs": []
    },
    {
      "cell_type": "markdown",
      "metadata": {
        "id": "urdwL2BB2fy2",
        "colab_type": "text"
      },
      "source": [
        "just to assure that evriting is ok"
      ]
    },
    {
      "cell_type": "code",
      "metadata": {
        "id": "CAyBtGPO2Ock",
        "colab_type": "code",
        "colab": {}
      },
      "source": [
        "!pwd\n",
        "!tree -shC -L 2"
      ],
      "execution_count": 0,
      "outputs": []
    },
    {
      "cell_type": "markdown",
      "metadata": {
        "id": "Onk8YmL6h-Wo",
        "colab_type": "text"
      },
      "source": [
        "# step three\n",
        "we must navigate to the folder that we intend to transfere"
      ]
    },
    {
      "cell_type": "code",
      "metadata": {
        "id": "7OXJqzCQOCb3",
        "colab_type": "code",
        "colab": {}
      },
      "source": [
        "path=\"/content/first_account/folder1\"\n",
        "folder_to_transfere=\"folder2\""
      ],
      "execution_count": 0,
      "outputs": []
    },
    {
      "cell_type": "markdown",
      "metadata": {
        "id": "36eJPcxR3ayZ",
        "colab_type": "text"
      },
      "source": [
        "this is to assure that the path is correct, if not you need to modify the path above and than re-run the cell below."
      ]
    },
    {
      "cell_type": "code",
      "metadata": {
        "id": "2GSyqE7OOX6X",
        "colab_type": "code",
        "colab": {}
      },
      "source": [
        "!echo $path\n",
        "%cd $path\n",
        "%cd $folder_to_transfere\n",
        "!pwd"
      ],
      "execution_count": 0,
      "outputs": []
    },
    {
      "cell_type": "markdown",
      "metadata": {
        "id": "prh_PciUiLAW",
        "colab_type": "text"
      },
      "source": [
        "and than we dowload the desidered folder, google have fast internet but it will take time depending from the size of the files. drive have an issue with colab so will show nothing (the progress bar make colab crash)."
      ]
    },
    {
      "cell_type": "code",
      "metadata": {
        "id": "qR6dS-mxiGIb",
        "colab_type": "code",
        "colab": {}
      },
      "source": [
        "!drive pull -directories -quiet -no-prompt -fix-clashes\n",
        "!drive pull -quiet -no-prompt -fix-clashes"
      ],
      "execution_count": 0,
      "outputs": []
    },
    {
      "cell_type": "markdown",
      "metadata": {
        "id": "_PxdzmdF4Jr_",
        "colab_type": "text"
      },
      "source": [
        "just to assure that everithing is ok"
      ]
    },
    {
      "cell_type": "code",
      "metadata": {
        "id": "jwzJqNmQ3IX3",
        "colab_type": "code",
        "colab": {}
      },
      "source": [
        "!drive stat -recursive -depth 2"
      ],
      "execution_count": 0,
      "outputs": []
    },
    {
      "cell_type": "markdown",
      "metadata": {
        "id": "-Oaxv3hb4Smi",
        "colab_type": "text"
      },
      "source": [
        "# step four\n",
        "to speed up the process of changing owner i try so select only the files whose ownership can be transferred. I DIDN'T test it enough to say that it work in any case so proceed with caution."
      ]
    },
    {
      "cell_type": "code",
      "metadata": {
        "id": "t-56PDMRjZJ8",
        "colab_type": "code",
        "colab": {}
      },
      "source": [
        "from collections import Counter\n",
        "\n",
        "google_files = !find . -type f -name '*.desktop'\n",
        "\n",
        "protected_file_types = []\n",
        "for f in google_files:\n",
        "  f = f.split('/')[-1]\n",
        "  if f.count('.') == 2:\n",
        "    protected_file_types.append(f.split('.')[-2])\n",
        "protected_file_types = list(dict.fromkeys(protected_file_types))\n",
        "protected_file_types.append('desktop')\n",
        "print(protected_file_types)\n",
        "\n",
        "file_types = !find . -type f -name '*.*' | sed 's|.*\\.||' | sort -u\n",
        "\n",
        "file_types = list((Counter(file_types) - Counter(protected_file_types)).elements())\n",
        "print(file_types)\n",
        "\n",
        "with open('/content/protected_file_types.txt', 'w') as f:\n",
        "    for ft in protected_file_types:\n",
        "      f.write(ft + '\\n')\n",
        "with open('/content/file_types.txt', 'w') as f:\n",
        "    for ft in file_types:\n",
        "      f.write(ft + '\\n')"
      ],
      "execution_count": 0,
      "outputs": []
    },
    {
      "cell_type": "markdown",
      "metadata": {
        "id": "JKSpplpLbI-9",
        "colab_type": "text"
      },
      "source": [
        "# step five\n",
        "we can transfere the ownership basing on what we found above. You need to write the `second_email` manually, doublecheck it because this can't be undone!\n",
        "\n"
      ]
    },
    {
      "cell_type": "code",
      "metadata": {
        "id": "Fa1CrqwjCrPo",
        "colab_type": "code",
        "colab": {}
      },
      "source": [
        "%%bash\n",
        "filename=/content/protected_file_types.txt\n",
        "\n",
        "second_email=jhon@gmail.com\n",
        "\n",
        "while IFS= read -r f;\n",
        "do\n",
        "  find ./ -name \"*.$f\" -exec drive share -no-prompt -quiet -emails $second_email -role owner {} ';' ;\n",
        "done < $filename\n",
        "\n",
        "find ./ -not -name \"*.*\" -exec drive share -no-prompt -quiet -emails $second_email -role owner {} ';'"
      ],
      "execution_count": 0,
      "outputs": []
    },
    {
      "cell_type": "markdown",
      "metadata": {
        "id": "nhlgGvTf52nA",
        "colab_type": "text"
      },
      "source": [
        "to assure that the files actually changed owner"
      ]
    },
    {
      "cell_type": "code",
      "metadata": {
        "id": "r7-HyJRq6pnZ",
        "colab_type": "code",
        "colab": {}
      },
      "source": [
        "!drive stat -recursive -depth 2"
      ],
      "execution_count": 0,
      "outputs": []
    },
    {
      "cell_type": "markdown",
      "metadata": {
        "id": "RzV1Ba8o5-Nt",
        "colab_type": "text"
      },
      "source": [
        "# step six\n",
        "we copy the desidered folder to a path so we know where it is"
      ]
    },
    {
      "cell_type": "code",
      "metadata": {
        "id": "Khk9E4SmS07i",
        "colab_type": "code",
        "colab": {}
      },
      "source": [
        "%%bash\n",
        "cd \"$path\"\n",
        "pwd\n",
        "mkdir /content/file\\ to\\ transfere\n",
        "cp -r \"./../$folder_to_transfere/*\" /content/file\\ to\\ transfere/\n",
        "cd \"./$folder_to_transfere\"\n",
        "pwd"
      ],
      "execution_count": 0,
      "outputs": []
    },
    {
      "cell_type": "markdown",
      "metadata": {
        "id": "n4qvlP8u6Rg6",
        "colab_type": "text"
      },
      "source": [
        "# step seven\n",
        "we trash all the files whose ownership can't be transferred. doublecheck the find command to assure it find only the desidered files!"
      ]
    },
    {
      "cell_type": "code",
      "metadata": {
        "id": "A06oq5uGUoHJ",
        "colab_type": "code",
        "colab": {}
      },
      "source": [
        "%%bash\n",
        "\n",
        "filename=/content/file_types.txt\n",
        "\n",
        "while IFS= read -r f;\n",
        "do\n",
        "  find ./ -name \"*.$f\" -exec drive trash -quiet {} ';' ;\n",
        "done < $filename"
      ],
      "execution_count": 0,
      "outputs": []
    },
    {
      "cell_type": "markdown",
      "metadata": {
        "id": "RrQrCT18YYmC",
        "colab_type": "text"
      },
      "source": [
        "# step eight\n",
        "now we ended for the first account and we can proceed to initialize the second account."
      ]
    },
    {
      "cell_type": "code",
      "metadata": {
        "id": "YvUdWgbIVVaQ",
        "colab_type": "code",
        "colab": {}
      },
      "source": [
        "%cd /content/\n",
        "!mkdir second_account\n",
        "%cd second_account\n",
        "!drive init\n",
        "!drive index -no-prompt -quiet\n",
        "!drive pull -directories -depth 4 -quiet -no-prompt -fix-clashes"
      ],
      "execution_count": 0,
      "outputs": []
    },
    {
      "cell_type": "markdown",
      "metadata": {
        "id": "X_PuxEZP7ORW",
        "colab_type": "text"
      },
      "source": [
        "# step nine\n",
        "we must move to the folder that we are tring to transfere. doublecheck the path and the tree of folder!"
      ]
    },
    {
      "cell_type": "code",
      "metadata": {
        "id": "QSi4Yu15X4Qi",
        "colab_type": "code",
        "colab": {}
      },
      "source": [
        "%cd \"./$folder_to_transfere\"\n",
        "!pwd\n",
        "!tree -shaC"
      ],
      "execution_count": 0,
      "outputs": []
    },
    {
      "cell_type": "markdown",
      "metadata": {
        "id": "I9kn8axF7nqC",
        "colab_type": "text"
      },
      "source": [
        "# step ten \n",
        "to avoid errors we must dowload the folder (it will be basically void because we removed all not buld-in files)."
      ]
    },
    {
      "cell_type": "code",
      "metadata": {
        "id": "tgOXqgKhavWs",
        "colab_type": "code",
        "colab": {}
      },
      "source": [
        "!drive pull -quiet -no-prompt -fix-clashes"
      ],
      "execution_count": 0,
      "outputs": []
    },
    {
      "cell_type": "markdown",
      "metadata": {
        "id": "LHZpngPn8CLi",
        "colab_type": "text"
      },
      "source": [
        "# step eleven\n",
        "finally we can copy the folder and upload it!"
      ]
    },
    {
      "cell_type": "code",
      "metadata": {
        "id": "mg0fn_TLYBsr",
        "colab_type": "code",
        "colab": {}
      },
      "source": [
        "!cp -r /content/file\\ to\\ transfere/* ./\n",
        "!drive push -quiet -no-prompt -fix-clashes"
      ],
      "execution_count": 0,
      "outputs": []
    },
    {
      "cell_type": "markdown",
      "metadata": {
        "id": "9jAus-sMaA3E",
        "colab_type": "text"
      },
      "source": [
        "# conclusion\n",
        "this colab need some work but is a prof of concept that we can use the google bandwith to transfere files between drive accounts. "
      ]
    }
  ]
}